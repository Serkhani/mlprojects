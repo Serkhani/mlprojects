{
 "cells": [
  {
   "cell_type": "markdown",
   "id": "a2bcbe5f-b93c-4ae1-a2f9-9319cfbbe3a2",
   "metadata": {},
   "source": [
    "## Convolutional Neural Networks"
   ]
  },
  {
   "cell_type": "markdown",
   "id": "1cc5db4a-8bf0-4a2c-94e5-d876c8040943",
   "metadata": {},
   "source": [
    "##### A convolutional neural network (CNN or ConvNet) is a network architecture for deep learning that learns directly from data.\n",
    "\n",
    "##### In some context, the word convolution is a simple multiplication of frequency domains\n",
    "\n",
    "### Objectives\n",
    "\n",
    "- Build an artificial neural network (ANN) model using the convolutional neural network (CNN) architecture\n",
    "- Use the classifier to classify images (male and female)\n",
    "- Perform comparison analysis on some of the model parameters\n"
   ]
  },
  {
   "cell_type": "markdown",
   "id": "2c35aadb-7004-483c-9e4d-a65da73e4a81",
   "metadata": {},
   "source": [
    "![image](images/cnn_image.jpg)"
   ]
  },
  {
   "cell_type": "code",
   "execution_count": null,
   "id": "22cd96e4-2057-43e4-9012-4304be8d7754",
   "metadata": {},
   "outputs": [],
   "source": [
    "# Import libraries - pandas, numpy, matplotlib, keras, tensorflow, \n"
   ]
  },
  {
   "cell_type": "code",
   "execution_count": null,
   "id": "fb41e05d-42be-48d1-ab67-404bbc5ecad6",
   "metadata": {},
   "outputs": [],
   "source": [
    "# Import Dataset\n"
   ]
  },
  {
   "cell_type": "code",
   "execution_count": null,
   "id": "64806e1a-76eb-4541-8a1a-85f56936c99d",
   "metadata": {},
   "outputs": [],
   "source": [
    "# Analyze dataset\n"
   ]
  },
  {
   "cell_type": "code",
   "execution_count": null,
   "id": "ec07f234-a700-4153-bc43-1f0188696e81",
   "metadata": {},
   "outputs": [],
   "source": [
    "# Build CNN Model\n"
   ]
  },
  {
   "cell_type": "code",
   "execution_count": null,
   "id": "671d0d75-e533-44b3-9ab2-c1f4a2aed101",
   "metadata": {},
   "outputs": [],
   "source": [
    "# Compile CNN Model\n"
   ]
  },
  {
   "cell_type": "code",
   "execution_count": null,
   "id": "7024bb84-d1da-4918-828b-ceff2230e4f5",
   "metadata": {},
   "outputs": [],
   "source": [
    "# Fit CNN Model\n"
   ]
  },
  {
   "cell_type": "code",
   "execution_count": null,
   "id": "c5ad39f3-601d-45cd-9bb1-6007e18e83b6",
   "metadata": {},
   "outputs": [],
   "source": [
    "# Results and analysis\n"
   ]
  },
  {
   "cell_type": "code",
   "execution_count": null,
   "id": "ba90b647-bed2-471f-9416-31c333d722cb",
   "metadata": {},
   "outputs": [],
   "source": []
  }
 ],
 "metadata": {
  "kernelspec": {
   "display_name": "Python 3 (ipykernel)",
   "language": "python",
   "name": "python3"
  },
  "language_info": {
   "codemirror_mode": {
    "name": "ipython",
    "version": 3
   },
   "file_extension": ".py",
   "mimetype": "text/x-python",
   "name": "python",
   "nbconvert_exporter": "python",
   "pygments_lexer": "ipython3",
   "version": "3.11.4"
  }
 },
 "nbformat": 4,
 "nbformat_minor": 5
}
