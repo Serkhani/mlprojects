{
 "cells": [
  {
   "cell_type": "code",
   "execution_count": 9,
   "id": "6b1db7dd",
   "metadata": {},
   "outputs": [],
   "source": [
    "import keras\n",
    "import numpy as np\n",
    "import matplotlib.pyplot as plt\n",
    "import cv2\n",
    "from PIL import Image"
   ]
  },
  {
   "cell_type": "code",
   "execution_count": 10,
   "id": "d945029d",
   "metadata": {},
   "outputs": [],
   "source": [
    "data = Image.open('images.jpg')"
   ]
  },
  {
   "cell_type": "code",
   "execution_count": 11,
   "id": "af9d18c0",
   "metadata": {},
   "outputs": [
    {
     "data": {
      "image/png": "[encoded data removed]",
      "text/plain": [
       "<PIL.JpegImagePlugin.JpegImageFile image mode=RGB size=182x121>"
      ]
     },
     "execution_count": 11,
     "metadata": {},
     "output_type": "execute_result"
    }
   ],
   "source": [
    "# plt.imshow(image)\n",
    "data"
   ]
  },
  {
   "cell_type": "code",
   "execution_count": 12,
   "id": "f00f961b",
   "metadata": {},
   "outputs": [
    {
     "data": {
      "image/png": "[encoded data removed]",
      "text/plain": [
       "<PIL.Image.Image image mode=L size=182x121>"
      ]
     },
     "execution_count": 12,
     "metadata": {},
     "output_type": "execute_result"
    }
   ],
   "source": [
    "data = image.convert('L')\n",
    "data"
   ]
  },
  {
   "cell_type": "code",
   "execution_count": 13,
   "id": "64f653cc",
   "metadata": {},
   "outputs": [
    {
     "data": {
      "image/png": "[encoded data removed]",
      "text/plain": [
       "<PIL.Image.Image image mode=L size=182x121>"
      ]
     },
     "execution_count": 13,
     "metadata": {},
     "output_type": "execute_result"
    }
   ],
   "source": [
    "data.point(lambda x: 0 if x<100 else 255)"
   ]
  },
  {
   "cell_type": "code",
   "execution_count": 14,
   "id": "fc924360",
   "metadata": {},
   "outputs": [],
   "source": [
    "data = cv2.imread('images.jpg', cv2.IMREAD_GRAYSCALE)"
   ]
  },
  {
   "cell_type": "code",
   "execution_count": 15,
   "id": "c652a999",
   "metadata": {},
   "outputs": [],
   "source": [
    "data = np.array(data)"
   ]
  },
  {
   "cell_type": "code",
   "execution_count": 16,
   "id": "2848e5d3",
   "metadata": {},
   "outputs": [],
   "source": [
    "data =cv2.resize(data,(28,28))"
   ]
  },
  {
   "cell_type": "code",
   "execution_count": 17,
   "id": "6c7a2243",
   "metadata": {},
   "outputs": [
    {
     "data": {
      "text/plain": [
       "(28, 28)"
      ]
     },
     "execution_count": 17,
     "metadata": {},
     "output_type": "execute_result"
    }
   ],
   "source": [
    "data.shape"
   ]
  },
  {
   "cell_type": "code",
   "execution_count": 19,
   "id": "ffc8901b",
   "metadata": {},
   "outputs": [
    {
     "data": {
      "text/plain": [
       "array([[109, 109, 109, 109, 109, 108, 108, 108, 108, 108, 108, 108, 108,\n",
       "        108, 108, 108, 108, 108, 108, 108, 108, 108, 108, 109, 109, 108,\n",
       "        109, 109],\n",
       "       [109, 109, 109, 109, 109, 108, 108, 108, 108, 108, 108, 108, 108,\n",
       "        108, 108, 108, 108, 108, 108, 108, 108, 108, 108, 109, 109, 108,\n",
       "        109, 109],\n",
       "       [109, 109, 109, 109, 109, 109, 109, 108, 108, 108, 110, 103, 111,\n",
       "        110, 107, 111, 110, 108, 108, 108, 108, 108, 108, 109, 109, 108,\n",
       "        109, 109],\n",
       "       [109, 109, 109, 109, 109, 109, 109, 108, 108, 108, 103, 213, 191,\n",
       "        118, 136, 231, 179, 108, 108, 108, 108, 108, 108, 109, 109, 108,\n",
       "        109, 109],\n",
       "       [109, 109, 109, 109, 109, 108, 109, 106, 111, 120, 214, 224, 207,\n",
       "        211, 209, 224, 222, 217, 103, 108, 108, 109, 108, 109, 109, 109,\n",
       "        109, 109],\n",
       "       [109, 109, 109, 109, 109, 108, 110, 107, 151, 207, 218, 221, 222,\n",
       "        213, 219, 222, 217, 224, 224, 111, 106, 110, 108, 109, 109, 109,\n",
       "        109, 109],\n",
       "       [109, 109, 109, 109, 109, 109, 105, 198, 222, 214, 226, 223, 220,\n",
       "        220, 218, 223, 217, 222, 218, 203, 167, 111, 108, 109, 109, 109,\n",
       "        109, 108],\n",
       "       [109, 109, 109, 109, 109,  98, 217, 224, 219, 222, 214, 223, 221,\n",
       "        220, 222, 224, 217, 222, 203, 209, 214, 225, 110, 109, 109, 108,\n",
       "        109, 109],\n",
       "       [109, 109, 109, 109, 109, 113, 215, 219, 219, 222, 222, 225, 221,\n",
       "        220, 223, 224, 214, 222, 206, 191, 216, 229,  64, 109, 109, 108,\n",
       "        109, 109],\n",
       "       [109, 109, 109, 109, 109, 110, 219, 220, 223, 222, 219, 227, 221,\n",
       "        220, 223, 222, 209, 223, 210, 208, 216, 229, 108, 108, 108, 109,\n",
       "        108, 109],\n",
       "       [109, 109, 109, 109, 109, 104, 225, 217, 211, 219, 221, 216, 221,\n",
       "        220, 223, 222, 211, 223, 223, 214, 210, 190, 108, 108, 108, 109,\n",
       "        108, 109],\n",
       "       [109, 109, 109, 109, 108, 108, 147, 218, 210, 208, 221, 207, 220,\n",
       "        223, 223, 220, 212, 219, 223, 217, 227, 111, 108, 108, 108, 108,\n",
       "        108, 108],\n",
       "       [109, 109, 109, 109, 108, 108, 105, 168,  98, 208, 221, 208, 220,\n",
       "        223, 221, 219, 215, 219, 225, 126, 167, 120, 108, 108, 108, 108,\n",
       "        108, 108],\n",
       "       [109, 109, 109, 109, 109, 108, 109, 108, 108, 210, 215, 216, 221,\n",
       "        221, 220, 218, 216, 220, 226, 108, 108, 108, 109, 109, 109, 109,\n",
       "        109, 109],\n",
       "       [109, 109, 109, 109, 109, 108, 109, 108, 108, 208, 224, 224, 219,\n",
       "        219, 220, 213, 218, 220, 225, 109, 108, 108, 109, 109, 109, 109,\n",
       "        109, 109],\n",
       "       [109, 109, 109, 109, 109, 108, 108, 108, 108, 213, 222, 222, 218,\n",
       "        215, 220, 213, 221, 220, 225, 107, 108, 108, 108, 109, 109, 108,\n",
       "        108, 109],\n",
       "       [109, 109, 109, 109, 109, 108, 108, 108, 108, 216, 221, 219, 219,\n",
       "        211, 219, 211, 221, 220, 224, 109, 108, 108, 108, 109, 109, 108,\n",
       "        108, 109],\n",
       "       [109, 109, 109, 109, 109, 108, 108, 109, 109, 219, 220, 220, 216,\n",
       "        212, 217, 207, 219, 219, 224, 107, 108, 108, 108, 109, 109, 109,\n",
       "        108, 109],\n",
       "       [109, 109, 109, 109, 109, 108, 108, 108, 108, 219, 216, 221, 212,\n",
       "        213, 216, 208, 217, 218, 222, 110, 108, 108, 108, 109, 109, 109,\n",
       "        108, 109],\n",
       "       [109, 109, 109, 109, 109, 108, 108, 108, 108, 215, 213, 219, 212,\n",
       "        212, 216, 208, 215, 216, 219, 106, 108, 108, 108, 109, 109, 109,\n",
       "        109, 109],\n",
       "       [109, 109, 109, 109, 109, 108, 108, 109, 109, 203, 212, 215, 214,\n",
       "        211, 212, 204, 212, 214, 217, 107, 108, 109, 108, 109, 109, 109,\n",
       "        109, 109],\n",
       "       [109, 109, 109, 109, 109, 108, 108, 109, 109, 201, 211, 212, 213,\n",
       "        212, 214, 204, 213, 212, 215, 107, 108, 109, 108, 109, 109, 109,\n",
       "        109, 109],\n",
       "       [109, 108, 109, 109, 109, 109, 108, 108, 108, 202, 214, 207, 205,\n",
       "        210, 213, 202, 211, 211, 221, 106, 108, 108, 108, 109, 109, 108,\n",
       "        108, 109],\n",
       "       [109, 108, 109, 109, 109, 109, 108, 108, 108, 204, 210, 203, 207,\n",
       "        207, 217, 203, 210, 211, 219, 113, 108, 108, 108, 109, 109, 108,\n",
       "        108, 109],\n",
       "       [109, 108, 108, 110, 109, 108, 108, 108, 108, 215, 209, 199, 209,\n",
       "        200, 217, 206, 208, 211, 215, 105, 108, 108, 108, 109, 109, 109,\n",
       "        108, 108],\n",
       "       [109, 108, 108, 110, 109, 108, 108, 108, 108,  54,  99,  86, 109,\n",
       "        120, 161, 151, 126, 103, 122, 115, 108, 108, 108, 109, 109, 109,\n",
       "        108, 108],\n",
       "       [108, 108, 109, 109, 109, 108, 109, 108, 108, 109, 108, 108, 108,\n",
       "        108, 108, 108, 108, 108, 108, 108, 108, 108, 108, 109, 109, 109,\n",
       "        109, 108],\n",
       "       [108, 108, 109, 109, 109, 108, 109, 108, 108, 109, 108, 108, 108,\n",
       "        108, 108, 108, 108, 108, 108, 108, 108, 108, 108, 109, 109, 109,\n",
       "        109, 108]], dtype=uint8)"
      ]
     },
     "execution_count": 19,
     "metadata": {},
     "output_type": "execute_result"
    }
   ],
   "source": [
    "data"
   ]
  },
  {
   "cell_type": "code",
   "execution_count": 20,
   "id": "921b8a85",
   "metadata": {},
   "outputs": [],
   "source": [
    "data = data/255"
   ]
  },
  {
   "cell_type": "code",
   "execution_count": 21,
   "id": "6074efb3",
   "metadata": {},
   "outputs": [
    {
     "data": {
      "text/plain": [
       "array([[0.42745098, 0.42745098, 0.42745098, 0.42745098, 0.42745098,\n",
       "        0.42352941, 0.42352941, 0.42352941, 0.42352941, 0.42352941,\n",
       "        0.42352941, 0.42352941, 0.42352941, 0.42352941, 0.42352941,\n",
       "        0.42352941, 0.42352941, 0.42352941, 0.42352941, 0.42352941,\n",
       "        0.42352941, 0.42352941, 0.42352941, 0.42745098, 0.42745098,\n",
       "        0.42352941, 0.42745098, 0.42745098],\n",
       "       [0.42745098, 0.42745098, 0.42745098, 0.42745098, 0.42745098,\n",
       "        0.42352941, 0.42352941, 0.42352941, 0.42352941, 0.42352941,\n",
       "        0.42352941, 0.42352941, 0.42352941, 0.42352941, 0.42352941,\n",
       "        0.42352941, 0.42352941, 0.42352941, 0.42352941, 0.42352941,\n",
       "        0.42352941, 0.42352941, 0.42352941, 0.42745098, 0.42745098,\n",
       "        0.42352941, 0.42745098, 0.42745098],\n",
       "       [0.42745098, 0.42745098, 0.42745098, 0.42745098, 0.42745098,\n",
       "        0.42745098, 0.42745098, 0.42352941, 0.42352941, 0.42352941,\n",
       "        0.43137255, 0.40392157, 0.43529412, 0.43137255, 0.41960784,\n",
       "        0.43529412, 0.43137255, 0.42352941, 0.42352941, 0.42352941,\n",
       "        0.42352941, 0.42352941, 0.42352941, 0.42745098, 0.42745098,\n",
       "        0.42352941, 0.42745098, 0.42745098],\n",
       "       [0.42745098, 0.42745098, 0.42745098, 0.42745098, 0.42745098,\n",
       "        0.42745098, 0.42745098, 0.42352941, 0.42352941, 0.42352941,\n",
       "        0.40392157, 0.83529412, 0.74901961, 0.4627451 , 0.53333333,\n",
       "        0.90588235, 0.70196078, 0.42352941, 0.42352941, 0.42352941,\n",
       "        0.42352941, 0.42352941, 0.42352941, 0.42745098, 0.42745098,\n",
       "        0.42352941, 0.42745098, 0.42745098],\n",
       "       [0.42745098, 0.42745098, 0.42745098, 0.42745098, 0.42745098,\n",
       "        0.42352941, 0.42745098, 0.41568627, 0.43529412, 0.47058824,\n",
       "        0.83921569, 0.87843137, 0.81176471, 0.82745098, 0.81960784,\n",
       "        0.87843137, 0.87058824, 0.85098039, 0.40392157, 0.42352941,\n",
       "        0.42352941, 0.42745098, 0.42352941, 0.42745098, 0.42745098,\n",
       "        0.42745098, 0.42745098, 0.42745098],\n",
       "       [0.42745098, 0.42745098, 0.42745098, 0.42745098, 0.42745098,\n",
       "        0.42352941, 0.43137255, 0.41960784, 0.59215686, 0.81176471,\n",
       "        0.85490196, 0.86666667, 0.87058824, 0.83529412, 0.85882353,\n",
       "        0.87058824, 0.85098039, 0.87843137, 0.87843137, 0.43529412,\n",
       "        0.41568627, 0.43137255, 0.42352941, 0.42745098, 0.42745098,\n",
       "        0.42745098, 0.42745098, 0.42745098],\n",
       "       [0.42745098, 0.42745098, 0.42745098, 0.42745098, 0.42745098,\n",
       "        0.42745098, 0.41176471, 0.77647059, 0.87058824, 0.83921569,\n",
       "        0.88627451, 0.8745098 , 0.8627451 , 0.8627451 , 0.85490196,\n",
       "        0.8745098 , 0.85098039, 0.87058824, 0.85490196, 0.79607843,\n",
       "        0.65490196, 0.43529412, 0.42352941, 0.42745098, 0.42745098,\n",
       "        0.42745098, 0.42745098, 0.42352941],\n",
       "       [0.42745098, 0.42745098, 0.42745098, 0.42745098, 0.42745098,\n",
       "        0.38431373, 0.85098039, 0.87843137, 0.85882353, 0.87058824,\n",
       "        0.83921569, 0.8745098 , 0.86666667, 0.8627451 , 0.87058824,\n",
       "        0.87843137, 0.85098039, 0.87058824, 0.79607843, 0.81960784,\n",
       "        0.83921569, 0.88235294, 0.43137255, 0.42745098, 0.42745098,\n",
       "        0.42352941, 0.42745098, 0.42745098],\n",
       "       [0.42745098, 0.42745098, 0.42745098, 0.42745098, 0.42745098,\n",
       "        0.44313725, 0.84313725, 0.85882353, 0.85882353, 0.87058824,\n",
       "        0.87058824, 0.88235294, 0.86666667, 0.8627451 , 0.8745098 ,\n",
       "        0.87843137, 0.83921569, 0.87058824, 0.80784314, 0.74901961,\n",
       "        0.84705882, 0.89803922, 0.25098039, 0.42745098, 0.42745098,\n",
       "        0.42352941, 0.42745098, 0.42745098],\n",
       "       [0.42745098, 0.42745098, 0.42745098, 0.42745098, 0.42745098,\n",
       "        0.43137255, 0.85882353, 0.8627451 , 0.8745098 , 0.87058824,\n",
       "        0.85882353, 0.89019608, 0.86666667, 0.8627451 , 0.8745098 ,\n",
       "        0.87058824, 0.81960784, 0.8745098 , 0.82352941, 0.81568627,\n",
       "        0.84705882, 0.89803922, 0.42352941, 0.42352941, 0.42352941,\n",
       "        0.42745098, 0.42352941, 0.42745098],\n",
       "       [0.42745098, 0.42745098, 0.42745098, 0.42745098, 0.42745098,\n",
       "        0.40784314, 0.88235294, 0.85098039, 0.82745098, 0.85882353,\n",
       "        0.86666667, 0.84705882, 0.86666667, 0.8627451 , 0.8745098 ,\n",
       "        0.87058824, 0.82745098, 0.8745098 , 0.8745098 , 0.83921569,\n",
       "        0.82352941, 0.74509804, 0.42352941, 0.42352941, 0.42352941,\n",
       "        0.42745098, 0.42352941, 0.42745098],\n",
       "       [0.42745098, 0.42745098, 0.42745098, 0.42745098, 0.42352941,\n",
       "        0.42352941, 0.57647059, 0.85490196, 0.82352941, 0.81568627,\n",
       "        0.86666667, 0.81176471, 0.8627451 , 0.8745098 , 0.8745098 ,\n",
       "        0.8627451 , 0.83137255, 0.85882353, 0.8745098 , 0.85098039,\n",
       "        0.89019608, 0.43529412, 0.42352941, 0.42352941, 0.42352941,\n",
       "        0.42352941, 0.42352941, 0.42352941],\n",
       "       [0.42745098, 0.42745098, 0.42745098, 0.42745098, 0.42352941,\n",
       "        0.42352941, 0.41176471, 0.65882353, 0.38431373, 0.81568627,\n",
       "        0.86666667, 0.81568627, 0.8627451 , 0.8745098 , 0.86666667,\n",
       "        0.85882353, 0.84313725, 0.85882353, 0.88235294, 0.49411765,\n",
       "        0.65490196, 0.47058824, 0.42352941, 0.42352941, 0.42352941,\n",
       "        0.42352941, 0.42352941, 0.42352941],\n",
       "       [0.42745098, 0.42745098, 0.42745098, 0.42745098, 0.42745098,\n",
       "        0.42352941, 0.42745098, 0.42352941, 0.42352941, 0.82352941,\n",
       "        0.84313725, 0.84705882, 0.86666667, 0.86666667, 0.8627451 ,\n",
       "        0.85490196, 0.84705882, 0.8627451 , 0.88627451, 0.42352941,\n",
       "        0.42352941, 0.42352941, 0.42745098, 0.42745098, 0.42745098,\n",
       "        0.42745098, 0.42745098, 0.42745098],\n",
       "       [0.42745098, 0.42745098, 0.42745098, 0.42745098, 0.42745098,\n",
       "        0.42352941, 0.42745098, 0.42352941, 0.42352941, 0.81568627,\n",
       "        0.87843137, 0.87843137, 0.85882353, 0.85882353, 0.8627451 ,\n",
       "        0.83529412, 0.85490196, 0.8627451 , 0.88235294, 0.42745098,\n",
       "        0.42352941, 0.42352941, 0.42745098, 0.42745098, 0.42745098,\n",
       "        0.42745098, 0.42745098, 0.42745098],\n",
       "       [0.42745098, 0.42745098, 0.42745098, 0.42745098, 0.42745098,\n",
       "        0.42352941, 0.42352941, 0.42352941, 0.42352941, 0.83529412,\n",
       "        0.87058824, 0.87058824, 0.85490196, 0.84313725, 0.8627451 ,\n",
       "        0.83529412, 0.86666667, 0.8627451 , 0.88235294, 0.41960784,\n",
       "        0.42352941, 0.42352941, 0.42352941, 0.42745098, 0.42745098,\n",
       "        0.42352941, 0.42352941, 0.42745098],\n",
       "       [0.42745098, 0.42745098, 0.42745098, 0.42745098, 0.42745098,\n",
       "        0.42352941, 0.42352941, 0.42352941, 0.42352941, 0.84705882,\n",
       "        0.86666667, 0.85882353, 0.85882353, 0.82745098, 0.85882353,\n",
       "        0.82745098, 0.86666667, 0.8627451 , 0.87843137, 0.42745098,\n",
       "        0.42352941, 0.42352941, 0.42352941, 0.42745098, 0.42745098,\n",
       "        0.42352941, 0.42352941, 0.42745098],\n",
       "       [0.42745098, 0.42745098, 0.42745098, 0.42745098, 0.42745098,\n",
       "        0.42352941, 0.42352941, 0.42745098, 0.42745098, 0.85882353,\n",
       "        0.8627451 , 0.8627451 , 0.84705882, 0.83137255, 0.85098039,\n",
       "        0.81176471, 0.85882353, 0.85882353, 0.87843137, 0.41960784,\n",
       "        0.42352941, 0.42352941, 0.42352941, 0.42745098, 0.42745098,\n",
       "        0.42745098, 0.42352941, 0.42745098],\n",
       "       [0.42745098, 0.42745098, 0.42745098, 0.42745098, 0.42745098,\n",
       "        0.42352941, 0.42352941, 0.42352941, 0.42352941, 0.85882353,\n",
       "        0.84705882, 0.86666667, 0.83137255, 0.83529412, 0.84705882,\n",
       "        0.81568627, 0.85098039, 0.85490196, 0.87058824, 0.43137255,\n",
       "        0.42352941, 0.42352941, 0.42352941, 0.42745098, 0.42745098,\n",
       "        0.42745098, 0.42352941, 0.42745098],\n",
       "       [0.42745098, 0.42745098, 0.42745098, 0.42745098, 0.42745098,\n",
       "        0.42352941, 0.42352941, 0.42352941, 0.42352941, 0.84313725,\n",
       "        0.83529412, 0.85882353, 0.83137255, 0.83137255, 0.84705882,\n",
       "        0.81568627, 0.84313725, 0.84705882, 0.85882353, 0.41568627,\n",
       "        0.42352941, 0.42352941, 0.42352941, 0.42745098, 0.42745098,\n",
       "        0.42745098, 0.42745098, 0.42745098],\n",
       "       [0.42745098, 0.42745098, 0.42745098, 0.42745098, 0.42745098,\n",
       "        0.42352941, 0.42352941, 0.42745098, 0.42745098, 0.79607843,\n",
       "        0.83137255, 0.84313725, 0.83921569, 0.82745098, 0.83137255,\n",
       "        0.8       , 0.83137255, 0.83921569, 0.85098039, 0.41960784,\n",
       "        0.42352941, 0.42745098, 0.42352941, 0.42745098, 0.42745098,\n",
       "        0.42745098, 0.42745098, 0.42745098],\n",
       "       [0.42745098, 0.42745098, 0.42745098, 0.42745098, 0.42745098,\n",
       "        0.42352941, 0.42352941, 0.42745098, 0.42745098, 0.78823529,\n",
       "        0.82745098, 0.83137255, 0.83529412, 0.83137255, 0.83921569,\n",
       "        0.8       , 0.83529412, 0.83137255, 0.84313725, 0.41960784,\n",
       "        0.42352941, 0.42745098, 0.42352941, 0.42745098, 0.42745098,\n",
       "        0.42745098, 0.42745098, 0.42745098],\n",
       "       [0.42745098, 0.42352941, 0.42745098, 0.42745098, 0.42745098,\n",
       "        0.42745098, 0.42352941, 0.42352941, 0.42352941, 0.79215686,\n",
       "        0.83921569, 0.81176471, 0.80392157, 0.82352941, 0.83529412,\n",
       "        0.79215686, 0.82745098, 0.82745098, 0.86666667, 0.41568627,\n",
       "        0.42352941, 0.42352941, 0.42352941, 0.42745098, 0.42745098,\n",
       "        0.42352941, 0.42352941, 0.42745098],\n",
       "       [0.42745098, 0.42352941, 0.42745098, 0.42745098, 0.42745098,\n",
       "        0.42745098, 0.42352941, 0.42352941, 0.42352941, 0.8       ,\n",
       "        0.82352941, 0.79607843, 0.81176471, 0.81176471, 0.85098039,\n",
       "        0.79607843, 0.82352941, 0.82745098, 0.85882353, 0.44313725,\n",
       "        0.42352941, 0.42352941, 0.42352941, 0.42745098, 0.42745098,\n",
       "        0.42352941, 0.42352941, 0.42745098],\n",
       "       [0.42745098, 0.42352941, 0.42352941, 0.43137255, 0.42745098,\n",
       "        0.42352941, 0.42352941, 0.42352941, 0.42352941, 0.84313725,\n",
       "        0.81960784, 0.78039216, 0.81960784, 0.78431373, 0.85098039,\n",
       "        0.80784314, 0.81568627, 0.82745098, 0.84313725, 0.41176471,\n",
       "        0.42352941, 0.42352941, 0.42352941, 0.42745098, 0.42745098,\n",
       "        0.42745098, 0.42352941, 0.42352941],\n",
       "       [0.42745098, 0.42352941, 0.42352941, 0.43137255, 0.42745098,\n",
       "        0.42352941, 0.42352941, 0.42352941, 0.42352941, 0.21176471,\n",
       "        0.38823529, 0.3372549 , 0.42745098, 0.47058824, 0.63137255,\n",
       "        0.59215686, 0.49411765, 0.40392157, 0.47843137, 0.45098039,\n",
       "        0.42352941, 0.42352941, 0.42352941, 0.42745098, 0.42745098,\n",
       "        0.42745098, 0.42352941, 0.42352941],\n",
       "       [0.42352941, 0.42352941, 0.42745098, 0.42745098, 0.42745098,\n",
       "        0.42352941, 0.42745098, 0.42352941, 0.42352941, 0.42745098,\n",
       "        0.42352941, 0.42352941, 0.42352941, 0.42352941, 0.42352941,\n",
       "        0.42352941, 0.42352941, 0.42352941, 0.42352941, 0.42352941,\n",
       "        0.42352941, 0.42352941, 0.42352941, 0.42745098, 0.42745098,\n",
       "        0.42745098, 0.42745098, 0.42352941],\n",
       "       [0.42352941, 0.42352941, 0.42745098, 0.42745098, 0.42745098,\n",
       "        0.42352941, 0.42745098, 0.42352941, 0.42352941, 0.42745098,\n",
       "        0.42352941, 0.42352941, 0.42352941, 0.42352941, 0.42352941,\n",
       "        0.42352941, 0.42352941, 0.42352941, 0.42352941, 0.42352941,\n",
       "        0.42352941, 0.42352941, 0.42352941, 0.42745098, 0.42745098,\n",
       "        0.42745098, 0.42745098, 0.42352941]])"
      ]
     },
     "execution_count": 21,
     "metadata": {},
     "output_type": "execute_result"
    }
   ],
   "source": [
    "data"
   ]
  },
  {
   "cell_type": "code",
   "execution_count": 23,
   "id": "221964cf",
   "metadata": {},
   "outputs": [],
   "source": [
    "data = cv2.bitwise_not(data)"
   ]
  },
  {
   "cell_type": "code",
   "execution_count": 25,
   "id": "43b47b1b",
   "metadata": {},
   "outputs": [],
   "source": [
    "from keras.models import load_model"
   ]
  },
  {
   "cell_type": "code",
   "execution_count": 26,
   "id": "6b2e8b2a",
   "metadata": {},
   "outputs": [],
   "source": [
    "model = load_model('fashionModel.h5')"
   ]
  },
  {
   "cell_type": "code",
   "execution_count": 27,
   "id": "a6a6ad01",
   "metadata": {},
   "outputs": [
    {
     "name": "stdout",
     "output_type": "stream",
     "text": [
      "1/1 [==============================] - 0s 125ms/step\n"
     ]
    },
    {
     "data": {
      "text/plain": [
       "array([[0., 0., 0., 0., 0., 1., 0., 0., 0., 0.]], dtype=float32)"
      ]
     },
     "execution_count": 27,
     "metadata": {},
     "output_type": "execute_result"
    }
   ],
   "source": [
    "model.predict(data.reshape(1,28,28))"
   ]
  },
  {
   "cell_type": "code",
   "execution_count": 28,
   "id": "aa553ea7",
   "metadata": {},
   "outputs": [],
   "source": [
    "def predict_image(image_data):\n",
    "    class_names = ['T-shirt/top', 'Trouser', 'Pullover', 'Dress', 'Coat', 'Sandal', 'Shirt', 'Sneaker', 'Bag', 'Ankle boot']\n",
    "    data = Image.open(image_data)\n",
    "    data = data.convert('L')\n",
    "    data = data.point(lambda x:0 if x<100 else 255)\n",
    "    data = data.save('saved_image.jpg')\n",
    "    data = cv2.imread('saved_image.jpg',cv2.IMREAD_GRAYSCALE)\n",
    "    data = cv2.bitwise_not(data)\n",
    "    data = cv2.resize(data,(28,28))\n",
    "    data = data/255\n",
    "    data = data.reshape(1,28,28)\n",
    "    predict = model.predict(data)\n",
    "    predicted_class = np.argmax(predict)\n",
    "    score = np.amax(predict)\n",
    "    print(f'Prediction Report:/nPredicted class: {class_names[predicted_class]}/nConfidence level:{score:.2%}')"
   ]
  },
  {
   "cell_type": "code",
   "execution_count": 29,
   "id": "7070276d",
   "metadata": {},
   "outputs": [
    {
     "name": "stdout",
     "output_type": "stream",
     "text": [
      "1/1 [==============================] - 0s 24ms/step\n",
      "Prediction Report:/nPredicted class: T-shirt/top/nConfidence level:60.75%\n"
     ]
    }
   ],
   "source": [
    "predict_image('images.jpg')"
   ]
  }
 ],
 "metadata": {
  "kernelspec": {
   "display_name": "Python 3 (ipykernel)",
   "language": "python",
   "name": "python3"
  },
  "language_info": {
   "codemirror_mode": {
    "name": "ipython",
    "version": 3
   },
   "file_extension": ".py",
   "mimetype": "text/x-python",
   "name": "python",
   "nbconvert_exporter": "python",
   "pygments_lexer": "ipython3",
   "version": "3.9.0"
  }
 },
 "nbformat": 4,
 "nbformat_minor": 5
}
