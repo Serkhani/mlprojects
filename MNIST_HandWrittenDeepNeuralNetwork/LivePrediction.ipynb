{
 "cells": [
  {
   "cell_type": "code",
   "execution_count": 1,
   "id": "f00b1466",
   "metadata": {},
   "outputs": [],
   "source": [
    "from PIL import Image\n",
    "import numpy as np\n",
    "import matplotlib.pyplot as plt\n",
    "import cv2"
   ]
  },
  {
   "cell_type": "code",
   "execution_count": 2,
   "id": "9b4775e0",
   "metadata": {},
   "outputs": [],
   "source": [
    "from keras.models import load_model"
   ]
  },
  {
   "cell_type": "code",
   "execution_count": 3,
   "id": "108cbfe6",
   "metadata": {},
   "outputs": [],
   "source": [
    "model = load_model('HWDModel.h5')"
   ]
  },
  {
   "cell_type": "code",
   "execution_count": null,
   "id": "6af07719",
   "metadata": {},
   "outputs": [],
   "source": [
    "cam = cv2.VideoCapture(0)\n",
    "cv2.namedWindow(\"test\")\n",
    "\n",
    "img_counter=0\n",
    "\n",
    "while True:\n",
    "    ret,frame=cam.read()\n",
    "    if not ret:\n",
    "        print(\"failed to grab frame\")\n",
    "        break\n",
    "    cv2.imshow(\"test\",frame)\n",
    "    \n",
    "    k= cv2.waitKey(1)\n",
    "    if k%256==27:\n",
    "        #ESC pressed\n",
    "        print(\"Escape hit,closing...\")\n",
    "        break\n",
    "    elif k%256==32:\n",
    "        #space pressed\n",
    "        img_name=\"test{}.png\".format(img_counter)\n",
    "        cv2.imwrite(img_name,frame)\n",
    "        print(\"{}written!\".format(img_name))\n",
    "        img_counter +=1\n",
    "        \n",
    "cam.release()\n",
    "\n",
    "cv2.destroyAllWindows()"
   ]
  },
  {
   "cell_type": "code",
   "execution_count": 2,
   "id": "b93e8ad4",
   "metadata": {},
   "outputs": [],
   "source": [
    "def predict_image(image_data):\n",
    "    data = Image.open(image_data)\n",
    "    data = data.convert('L')\n",
    "    data = data.point(lambda x:0 if x<100 else 255)\n",
    "    data = data.save('saved_image.jpg')\n",
    "    data = cv2.imread('saved_image.jpg',cv2.IMREAD_GRAYSCALE)\n",
    "    data = cv2.bitwise_not(data)\n",
    "    data = cv2.resize(data,(28,28))\n",
    "    data = data/255\n",
    "    plt.imshow(data,cmap='gray')\n",
    "    data = data.reshape(1,28,28)\n",
    "    predict = model.predict(data)\n",
    "    predicted_class = np.argmax(predict)\n",
    "    score = np.amax(predict)\n",
    "    print(f'Prediction Report:\\nPredicted class:{predicted_class}\\nConfidence level:{score:.2%}')"
   ]
  },
  {
   "cell_type": "code",
   "execution_count": 3,
   "id": "69ec4e97",
   "metadata": {},
   "outputs": [
    {
     "ename": "NameError",
     "evalue": "name 'Image' is not defined",
     "output_type": "error",
     "traceback": [
      "\u001b[1;31m---------------------------------------------------------------------------\u001b[0m",
      "\u001b[1;31mNameError\u001b[0m                                 Traceback (most recent call last)",
      "Cell \u001b[1;32mIn[3], line 1\u001b[0m\n\u001b[1;32m----> 1\u001b[0m \u001b[43mpredict_image\u001b[49m\u001b[43m(\u001b[49m\u001b[38;5;124;43m'\u001b[39;49m\u001b[38;5;124;43mtest0.png\u001b[39;49m\u001b[38;5;124;43m'\u001b[39;49m\u001b[43m)\u001b[49m\n",
      "Cell \u001b[1;32mIn[2], line 2\u001b[0m, in \u001b[0;36mpredict_image\u001b[1;34m(image_data)\u001b[0m\n\u001b[0;32m      1\u001b[0m \u001b[38;5;28;01mdef\u001b[39;00m \u001b[38;5;21mpredict_image\u001b[39m(image_data):\n\u001b[1;32m----> 2\u001b[0m     data \u001b[38;5;241m=\u001b[39m \u001b[43mImage\u001b[49m\u001b[38;5;241m.\u001b[39mopen(image_data)\n\u001b[0;32m      3\u001b[0m     data \u001b[38;5;241m=\u001b[39m data\u001b[38;5;241m.\u001b[39mconvert(\u001b[38;5;124m'\u001b[39m\u001b[38;5;124mL\u001b[39m\u001b[38;5;124m'\u001b[39m)\n\u001b[0;32m      4\u001b[0m     data \u001b[38;5;241m=\u001b[39m data\u001b[38;5;241m.\u001b[39mpoint(\u001b[38;5;28;01mlambda\u001b[39;00m x:\u001b[38;5;241m0\u001b[39m \u001b[38;5;28;01mif\u001b[39;00m x\u001b[38;5;241m<\u001b[39m\u001b[38;5;241m100\u001b[39m \u001b[38;5;28;01melse\u001b[39;00m \u001b[38;5;241m255\u001b[39m)\n",
      "\u001b[1;31mNameError\u001b[0m: name 'Image' is not defined"
     ]
    }
   ],
   "source": [
    "predict_image('test0.png')"
   ]
  }
 ],
 "metadata": {
  "kernelspec": {
   "display_name": "Python 3 (ipykernel)",
   "language": "python",
   "name": "python3"
  },
  "language_info": {
   "codemirror_mode": {
    "name": "ipython",
    "version": 3
   },
   "file_extension": ".py",
   "mimetype": "text/x-python",
   "name": "python",
   "nbconvert_exporter": "python",
   "pygments_lexer": "ipython3",
   "version": "3.9.0"
  }
 },
 "nbformat": 4,
 "nbformat_minor": 5
}
